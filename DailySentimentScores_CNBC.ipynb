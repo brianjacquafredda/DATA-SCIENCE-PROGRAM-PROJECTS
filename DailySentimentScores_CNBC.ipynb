{
  "nbformat": 4,
  "nbformat_minor": 0,
  "metadata": {
    "colab": {
      "provenance": []
    },
    "kernelspec": {
      "name": "python3",
      "display_name": "Python 3"
    },
    "language_info": {
      "name": "python"
    }
  },
  "cells": [
    {
      "cell_type": "code",
      "execution_count": null,
      "metadata": {
        "id": "zlPCipEA2LiM"
      },
      "outputs": [],
      "source": [
        "### STOCK MARKET TEXT ANALYTICS"
      ]
    },
    {
      "cell_type": "code",
      "source": [
        "### USING STOCK MARKET NEWSFEEDS TO PREDICT DAILY GAINS/LOSSES FOR THE DOW JONES INDUSTRIAL AVERAGE USING SENTIMENT ANALYSIS"
      ],
      "metadata": {
        "id": "qG-1CElq20Ub"
      },
      "execution_count": null,
      "outputs": []
    },
    {
      "cell_type": "code",
      "source": [
        "!pip install nltk"
      ],
      "metadata": {
        "colab": {
          "base_uri": "https://localhost:8080/"
        },
        "id": "W5BTeFyA20cT",
        "outputId": "e787577a-79e9-4a8a-f918-98b572d0d5b3"
      },
      "execution_count": null,
      "outputs": [
        {
          "output_type": "stream",
          "name": "stdout",
          "text": [
            "Looking in indexes: https://pypi.org/simple, https://us-python.pkg.dev/colab-wheels/public/simple/\n",
            "Requirement already satisfied: nltk in /usr/local/lib/python3.9/dist-packages (3.8.1)\n",
            "Requirement already satisfied: click in /usr/local/lib/python3.9/dist-packages (from nltk) (8.1.3)\n",
            "Requirement already satisfied: regex>=2021.8.3 in /usr/local/lib/python3.9/dist-packages (from nltk) (2022.10.31)\n",
            "Requirement already satisfied: tqdm in /usr/local/lib/python3.9/dist-packages (from nltk) (4.65.0)\n",
            "Requirement already satisfied: joblib in /usr/local/lib/python3.9/dist-packages (from nltk) (1.1.1)\n"
          ]
        }
      ]
    },
    {
      "cell_type": "code",
      "source": [
        "import pandas as pd\n",
        "import nltk\n",
        "\n",
        "nltk.download([\n",
        "        \"names\",\n",
        "\"stopwords\",\n",
        "\"state_union\",\n",
        "\"twitter_samples\",\n",
        "\"movie_reviews\",\n",
        "\"averaged_perceptron_tagger\",\n",
        "\"vader_lexicon\",\n",
        "\"punkt\",\n",
        "])\n",
        "\n",
        "from nltk.tokenize import word_tokenize\n",
        "from nltk.probability import FreqDist\n",
        "from nltk.corpus import stopwords\n",
        "from nltk.sentiment import SentimentIntensityAnalyzer\n",
        "from nltk.collocations import BigramAssocMeasures, BigramCollocationFinder"
      ],
      "metadata": {
        "colab": {
          "base_uri": "https://localhost:8080/"
        },
        "id": "W_TtgRLPWeES",
        "outputId": "9d0961b2-99a4-4255-b654-72585d3348ee"
      },
      "execution_count": null,
      "outputs": [
        {
          "output_type": "stream",
          "name": "stderr",
          "text": [
            "[nltk_data] Downloading package names to /root/nltk_data...\n",
            "[nltk_data]   Package names is already up-to-date!\n",
            "[nltk_data] Downloading package stopwords to /root/nltk_data...\n",
            "[nltk_data]   Package stopwords is already up-to-date!\n",
            "[nltk_data] Downloading package state_union to /root/nltk_data...\n",
            "[nltk_data]   Package state_union is already up-to-date!\n",
            "[nltk_data] Downloading package twitter_samples to /root/nltk_data...\n",
            "[nltk_data]   Package twitter_samples is already up-to-date!\n",
            "[nltk_data] Downloading package movie_reviews to /root/nltk_data...\n",
            "[nltk_data]   Package movie_reviews is already up-to-date!\n",
            "[nltk_data] Downloading package averaged_perceptron_tagger to\n",
            "[nltk_data]     /root/nltk_data...\n",
            "[nltk_data]   Package averaged_perceptron_tagger is already up-to-\n",
            "[nltk_data]       date!\n",
            "[nltk_data] Downloading package vader_lexicon to /root/nltk_data...\n",
            "[nltk_data]   Package vader_lexicon is already up-to-date!\n",
            "[nltk_data] Downloading package punkt to /root/nltk_data...\n",
            "[nltk_data]   Package punkt is already up-to-date!\n"
          ]
        }
      ]
    },
    {
      "cell_type": "code",
      "source": [
        "### WITHOUT LOADING EXCEL FILE\n",
        "### from google.colab import files\n",
        "### uploaded = files.upload(train_text)"
      ],
      "metadata": {
        "id": "yedkhsneWaAz"
      },
      "execution_count": null,
      "outputs": []
    },
    {
      "cell_type": "code",
      "source": [
        "nltk.download('stopwords')"
      ],
      "metadata": {
        "colab": {
          "base_uri": "https://localhost:8080/"
        },
        "id": "eN27h8V5ccoh",
        "outputId": "933b793b-9da8-4b49-d484-a652c78cab4d"
      },
      "execution_count": null,
      "outputs": [
        {
          "output_type": "stream",
          "name": "stderr",
          "text": [
            "[nltk_data] Downloading package stopwords to /root/nltk_data...\n",
            "[nltk_data]   Package stopwords is already up-to-date!\n"
          ]
        },
        {
          "output_type": "execute_result",
          "data": {
            "text/plain": [
              "True"
            ]
          },
          "metadata": {},
          "execution_count": 3
        }
      ]
    },
    {
      "cell_type": "code",
      "source": [
        "### 02/27/2023\n",
        "### url = 'https://www.cnbc.com/2023/02/27/5-things-to-know-before-the-stock-market-opens-monday-february-27.html'\n",
        "\n",
        "text1 = '1. Bounce back Stock futures rose Monday as the major averages attempt a rebound after ending Friday’s session with big weekly losses. The story is still inflation, the Federal Reserve and consumer spending. Monday brings data on durable goods orders, and later in the week investors will get a look at new consumer confidence and ISM manufacturing surveys, as well as more key retail earnings. “As we head into a seasonally weak period, with bets rising that the Fed may go with a 50bps increase instead of a 25bps in March, though still a minority opinion, the short-term market risk remains to the downside despite three straight weeks of losses,” said Louis Navellier, chairman and founder of growth investing firm Navellier & Associates. “The bears are dusting themselves off after getting sacked in January.” Follow live market updates. 2. Buffett on buybacks The “Oracle of Omaha” wrote in Berkshire Hathaway’s annual letter that stock buybacks are beneficial to all shareholders, saying, “When you are told that all repurchases are harmful to shareholders or to the country, or particularly beneficial to CEOs, you are listening to either an economic illiterate or a silver-tongued demagogue (characters that are not mutually exclusive).” Warren Buffett’s shareholder letter is hotly anticipated each year for insight into his investing strategy and broader perspective on the business. Berkshire initiated a buyback program in 2011 and has relied on repurchases in recent years while deals dried up and stocks grew more expensive. “The math isn’t complicated: When the share count goes down, your interest in our many businesses goes up,” Buffett said. “Gains from value-accretive repurchases, it should be emphasized, benefit all owners — in every respect.” 3. 11th hour delay NASA’s Crew 6 mission, which would take four crewmembers to the International Space Station on a SpaceX rocket, was delayed early Monday — just two and a half minutes before launch — due to a technical glitch concerning the flow of ignition fluid. The SpaceX Falcon 9 rocket and Crew Dragon capsule had been scheduled for liftoff at 1:45 a.m. ET from NASA’s Kennedy Space Center in Cape Canaveral, Florida, and were set to carry two U.S. astronauts, a Russian cosmonaut and a United Arab Emirates crewmate on a six-month trip. SpaceX said later Monday morning it would target “no earlier than Thursday” morning, just after midnight, for another launch attempt. 4. Saudis back Ukraine Ukraine has received aid from an unlikely donor: Saudi Arabia. The Russia oil ally signed a $400 million aid package for Ukraine after a diplomatic visit involving Saudi Foreign Minister Prince Faisal bin Farhan Al Saud, Ukrainian Foreign Minister Dmytro Kuleba and Andriy Yermak, head of the office of the president of Ukraine. The agreement calls for $100 million in joint humanitarian efforts between the countries, according to Saudi’s state press agency. “Of course, we are working on a higher level of visits and relations. But now we have finally reached an interaction,” Ukranian President Volodymyr Zelenskyy said. “This ... brings concrete and sensitive results for Ukrainians, in particular with regard to the release of prisoners of war. I thank our Saudi partners for their cooperation and assistance.” Follow CNBC’s live udates on the war in Ukraine. 5. Lightning strikes twice Ford has extended a production pause on its electric F-150 Lightning after a battery issue resulted in one of the pickups catching fire earlier this month. The automaker told CNBC on Friday that its battery supplier, SK, has resumed building battery cells at a Georgia plant, but Ford said it will take time “to ensure they are back to building high-quality cells and to deliver them to the Lightning production line.” The F-150 Lightning is critical to Ford’s electric vehicle transition plans and is viewed by many in the industry as the best candidate for mass adoption out of the increasingly crowded electric mid-size truck segment.'"
      ],
      "metadata": {
        "id": "V2uC1eWnWaDx"
      },
      "execution_count": null,
      "outputs": []
    },
    {
      "cell_type": "code",
      "source": [
        "print(text1)"
      ],
      "metadata": {
        "colab": {
          "base_uri": "https://localhost:8080/"
        },
        "id": "TvAaixnu20fk",
        "outputId": "5b66f820-db50-4a59-e226-ab9f361afbbf"
      },
      "execution_count": null,
      "outputs": [
        {
          "output_type": "stream",
          "name": "stdout",
          "text": [
            "1. Bounce back Stock futures rose Monday as the major averages attempt a rebound after ending Friday’s session with big weekly losses. The story is still inflation, the Federal Reserve and consumer spending. Monday brings data on durable goods orders, and later in the week investors will get a look at new consumer confidence and ISM manufacturing surveys, as well as more key retail earnings. “As we head into a seasonally weak period, with bets rising that the Fed may go with a 50bps increase instead of a 25bps in March, though still a minority opinion, the short-term market risk remains to the downside despite three straight weeks of losses,” said Louis Navellier, chairman and founder of growth investing firm Navellier & Associates. “The bears are dusting themselves off after getting sacked in January.” Follow live market updates. 2. Buffett on buybacks The “Oracle of Omaha” wrote in Berkshire Hathaway’s annual letter that stock buybacks are beneficial to all shareholders, saying, “When you are told that all repurchases are harmful to shareholders or to the country, or particularly beneficial to CEOs, you are listening to either an economic illiterate or a silver-tongued demagogue (characters that are not mutually exclusive).” Warren Buffett’s shareholder letter is hotly anticipated each year for insight into his investing strategy and broader perspective on the business. Berkshire initiated a buyback program in 2011 and has relied on repurchases in recent years while deals dried up and stocks grew more expensive. “The math isn’t complicated: When the share count goes down, your interest in our many businesses goes up,” Buffett said. “Gains from value-accretive repurchases, it should be emphasized, benefit all owners — in every respect.” 3. 11th hour delay NASA’s Crew 6 mission, which would take four crewmembers to the International Space Station on a SpaceX rocket, was delayed early Monday — just two and a half minutes before launch — due to a technical glitch concerning the flow of ignition fluid. The SpaceX Falcon 9 rocket and Crew Dragon capsule had been scheduled for liftoff at 1:45 a.m. ET from NASA’s Kennedy Space Center in Cape Canaveral, Florida, and were set to carry two U.S. astronauts, a Russian cosmonaut and a United Arab Emirates crewmate on a six-month trip. SpaceX said later Monday morning it would target “no earlier than Thursday” morning, just after midnight, for another launch attempt. 4. Saudis back Ukraine Ukraine has received aid from an unlikely donor: Saudi Arabia. The Russia oil ally signed a $400 million aid package for Ukraine after a diplomatic visit involving Saudi Foreign Minister Prince Faisal bin Farhan Al Saud, Ukrainian Foreign Minister Dmytro Kuleba and Andriy Yermak, head of the office of the president of Ukraine. The agreement calls for $100 million in joint humanitarian efforts between the countries, according to Saudi’s state press agency. “Of course, we are working on a higher level of visits and relations. But now we have finally reached an interaction,” Ukranian President Volodymyr Zelenskyy said. “This ... brings concrete and sensitive results for Ukrainians, in particular with regard to the release of prisoners of war. I thank our Saudi partners for their cooperation and assistance.” Follow CNBC’s live udates on the war in Ukraine. 5. Lightning strikes twice Ford has extended a production pause on its electric F-150 Lightning after a battery issue resulted in one of the pickups catching fire earlier this month. The automaker told CNBC on Friday that its battery supplier, SK, has resumed building battery cells at a Georgia plant, but Ford said it will take time “to ensure they are back to building high-quality cells and to deliver them to the Lightning production line.” The F-150 Lightning is critical to Ford’s electric vehicle transition plans and is viewed by many in the industry as the best candidate for mass adoption out of the increasingly crowded electric mid-size truck segment.\n"
          ]
        }
      ]
    },
    {
      "cell_type": "code",
      "source": [
        "text1 = text1.lower()"
      ],
      "metadata": {
        "id": "eG0xSxSVcmbp"
      },
      "execution_count": null,
      "outputs": []
    },
    {
      "cell_type": "code",
      "source": [
        "print(text1)"
      ],
      "metadata": {
        "colab": {
          "base_uri": "https://localhost:8080/"
        },
        "id": "k3hi6snpcmlf",
        "outputId": "487a48aa-6d5b-45b1-8582-694e666fc992"
      },
      "execution_count": null,
      "outputs": [
        {
          "output_type": "stream",
          "name": "stdout",
          "text": [
            "1. bounce back stock futures rose monday as the major averages attempt a rebound after ending friday’s session with big weekly losses. the story is still inflation, the federal reserve and consumer spending. monday brings data on durable goods orders, and later in the week investors will get a look at new consumer confidence and ism manufacturing surveys, as well as more key retail earnings. “as we head into a seasonally weak period, with bets rising that the fed may go with a 50bps increase instead of a 25bps in march, though still a minority opinion, the short-term market risk remains to the downside despite three straight weeks of losses,” said louis navellier, chairman and founder of growth investing firm navellier & associates. “the bears are dusting themselves off after getting sacked in january.” follow live market updates. 2. buffett on buybacks the “oracle of omaha” wrote in berkshire hathaway’s annual letter that stock buybacks are beneficial to all shareholders, saying, “when you are told that all repurchases are harmful to shareholders or to the country, or particularly beneficial to ceos, you are listening to either an economic illiterate or a silver-tongued demagogue (characters that are not mutually exclusive).” warren buffett’s shareholder letter is hotly anticipated each year for insight into his investing strategy and broader perspective on the business. berkshire initiated a buyback program in 2011 and has relied on repurchases in recent years while deals dried up and stocks grew more expensive. “the math isn’t complicated: when the share count goes down, your interest in our many businesses goes up,” buffett said. “gains from value-accretive repurchases, it should be emphasized, benefit all owners — in every respect.” 3. 11th hour delay nasa’s crew 6 mission, which would take four crewmembers to the international space station on a spacex rocket, was delayed early monday — just two and a half minutes before launch — due to a technical glitch concerning the flow of ignition fluid. the spacex falcon 9 rocket and crew dragon capsule had been scheduled for liftoff at 1:45 a.m. et from nasa’s kennedy space center in cape canaveral, florida, and were set to carry two u.s. astronauts, a russian cosmonaut and a united arab emirates crewmate on a six-month trip. spacex said later monday morning it would target “no earlier than thursday” morning, just after midnight, for another launch attempt. 4. saudis back ukraine ukraine has received aid from an unlikely donor: saudi arabia. the russia oil ally signed a $400 million aid package for ukraine after a diplomatic visit involving saudi foreign minister prince faisal bin farhan al saud, ukrainian foreign minister dmytro kuleba and andriy yermak, head of the office of the president of ukraine. the agreement calls for $100 million in joint humanitarian efforts between the countries, according to saudi’s state press agency. “of course, we are working on a higher level of visits and relations. but now we have finally reached an interaction,” ukranian president volodymyr zelenskyy said. “this ... brings concrete and sensitive results for ukrainians, in particular with regard to the release of prisoners of war. i thank our saudi partners for their cooperation and assistance.” follow cnbc’s live udates on the war in ukraine. 5. lightning strikes twice ford has extended a production pause on its electric f-150 lightning after a battery issue resulted in one of the pickups catching fire earlier this month. the automaker told cnbc on friday that its battery supplier, sk, has resumed building battery cells at a georgia plant, but ford said it will take time “to ensure they are back to building high-quality cells and to deliver them to the lightning production line.” the f-150 lightning is critical to ford’s electric vehicle transition plans and is viewed by many in the industry as the best candidate for mass adoption out of the increasingly crowded electric mid-size truck segment.\n"
          ]
        }
      ]
    },
    {
      "cell_type": "code",
      "source": [
        "### nltk.download(\"vader_lexicon\")\n",
        "sia = SentimentIntensityAnalyzer()"
      ],
      "metadata": {
        "id": "cyjzeSWXetIu"
      },
      "execution_count": null,
      "outputs": []
    },
    {
      "cell_type": "code",
      "source": [
        "scores = sia.polarity_scores(text1)"
      ],
      "metadata": {
        "id": "nHKg6r2XeNY_"
      },
      "execution_count": null,
      "outputs": []
    },
    {
      "cell_type": "code",
      "source": [
        "print(\"Sentiment scores:\")\n",
        "print(scores)"
      ],
      "metadata": {
        "colab": {
          "base_uri": "https://localhost:8080/"
        },
        "id": "8Gkps9vdfB0P",
        "outputId": "38cf6f36-f761-456a-86fc-23ffe401b3b6"
      },
      "execution_count": null,
      "outputs": [
        {
          "output_type": "stream",
          "name": "stdout",
          "text": [
            "Sentiment scores:\n",
            "{'neg': 0.054, 'neu': 0.893, 'pos': 0.053, 'compound': -0.6166}\n"
          ]
        }
      ]
    },
    {
      "cell_type": "code",
      "source": [
        "tokens = word_tokenize(text1)"
      ],
      "metadata": {
        "id": "eM4vnuIPcmot"
      },
      "execution_count": null,
      "outputs": []
    },
    {
      "cell_type": "code",
      "source": [
        "stop_words = set(stopwords.words('english'))"
      ],
      "metadata": {
        "id": "OLPNibZscx_C"
      },
      "execution_count": null,
      "outputs": []
    },
    {
      "cell_type": "code",
      "source": [
        "filtered_tokens = [token for token in tokens if token not in stop_words and token.isalpha()]"
      ],
      "metadata": {
        "id": "iSf6e8cUcyCC"
      },
      "execution_count": null,
      "outputs": []
    },
    {
      "cell_type": "code",
      "source": [
        "bigram_measures = BigramAssocMeasures()"
      ],
      "metadata": {
        "id": "Y3ORvATVcyFK"
      },
      "execution_count": null,
      "outputs": []
    },
    {
      "cell_type": "code",
      "source": [
        "finder = BigramCollocationFinder.from_words(filtered_tokens)\n",
        "bigrams = finder.nbest(bigram_measures.raw_freq, 30)"
      ],
      "metadata": {
        "id": "NLGGHAp5cyHy"
      },
      "execution_count": null,
      "outputs": []
    },
    {
      "cell_type": "code",
      "source": [
        "analyzer = SentimentIntensityAnalyzer()\n",
        "sentiment = analyzer.polarity_scores(text1)"
      ],
      "metadata": {
        "id": "SItSDYZicyKW"
      },
      "execution_count": null,
      "outputs": []
    },
    {
      "cell_type": "code",
      "source": [
        "print(filtered_tokens)\n",
        "print(bigrams)\n",
        "print(sentiment)"
      ],
      "metadata": {
        "colab": {
          "base_uri": "https://localhost:8080/"
        },
        "id": "0DFz3pI6cyM7",
        "outputId": "8ddb0cb6-e711-4443-eda9-d2a3e41abc07"
      },
      "execution_count": null,
      "outputs": [
        {
          "output_type": "stream",
          "name": "stdout",
          "text": [
            "['bounce', 'back', 'stock', 'futures', 'rose', 'monday', 'major', 'averages', 'attempt', 'rebound', 'ending', 'friday', 'session', 'big', 'weekly', 'losses', 'story', 'still', 'inflation', 'federal', 'reserve', 'consumer', 'spending', 'monday', 'brings', 'data', 'durable', 'goods', 'orders', 'later', 'week', 'investors', 'get', 'look', 'new', 'consumer', 'confidence', 'ism', 'manufacturing', 'surveys', 'well', 'key', 'retail', 'earnings', 'head', 'seasonally', 'weak', 'period', 'bets', 'rising', 'fed', 'may', 'go', 'increase', 'instead', 'march', 'though', 'still', 'minority', 'opinion', 'market', 'risk', 'remains', 'downside', 'despite', 'three', 'straight', 'weeks', 'losses', 'said', 'louis', 'navellier', 'chairman', 'founder', 'growth', 'investing', 'firm', 'navellier', 'associates', 'bears', 'dusting', 'getting', 'sacked', 'follow', 'live', 'market', 'updates', 'buffett', 'buybacks', 'oracle', 'omaha', 'wrote', 'berkshire', 'hathaway', 'annual', 'letter', 'stock', 'buybacks', 'beneficial', 'shareholders', 'saying', 'told', 'repurchases', 'harmful', 'shareholders', 'country', 'particularly', 'beneficial', 'ceos', 'listening', 'either', 'economic', 'illiterate', 'demagogue', 'characters', 'mutually', 'exclusive', 'warren', 'buffett', 'shareholder', 'letter', 'hotly', 'anticipated', 'year', 'insight', 'investing', 'strategy', 'broader', 'perspective', 'business', 'berkshire', 'initiated', 'buyback', 'program', 'relied', 'repurchases', 'recent', 'years', 'deals', 'dried', 'stocks', 'grew', 'expensive', 'math', 'complicated', 'share', 'count', 'goes', 'interest', 'many', 'businesses', 'goes', 'buffett', 'said', 'gains', 'repurchases', 'emphasized', 'benefit', 'owners', 'every', 'hour', 'delay', 'nasa', 'crew', 'mission', 'would', 'take', 'four', 'crewmembers', 'international', 'space', 'station', 'spacex', 'rocket', 'delayed', 'early', 'monday', 'two', 'half', 'minutes', 'launch', 'due', 'technical', 'glitch', 'concerning', 'flow', 'ignition', 'fluid', 'spacex', 'falcon', 'rocket', 'crew', 'dragon', 'capsule', 'scheduled', 'liftoff', 'et', 'nasa', 'kennedy', 'space', 'center', 'cape', 'canaveral', 'florida', 'set', 'carry', 'two', 'astronauts', 'russian', 'cosmonaut', 'united', 'arab', 'emirates', 'crewmate', 'trip', 'spacex', 'said', 'later', 'monday', 'morning', 'would', 'target', 'earlier', 'thursday', 'morning', 'midnight', 'another', 'launch', 'attempt', 'saudis', 'back', 'ukraine', 'ukraine', 'received', 'aid', 'unlikely', 'donor', 'saudi', 'arabia', 'russia', 'oil', 'ally', 'signed', 'million', 'aid', 'package', 'ukraine', 'diplomatic', 'visit', 'involving', 'saudi', 'foreign', 'minister', 'prince', 'faisal', 'bin', 'farhan', 'al', 'saud', 'ukrainian', 'foreign', 'minister', 'dmytro', 'kuleba', 'andriy', 'yermak', 'head', 'office', 'president', 'ukraine', 'agreement', 'calls', 'million', 'joint', 'humanitarian', 'efforts', 'countries', 'according', 'saudi', 'state', 'press', 'agency', 'course', 'working', 'higher', 'level', 'visits', 'relations', 'finally', 'reached', 'interaction', 'ukranian', 'president', 'volodymyr', 'zelenskyy', 'said', 'brings', 'concrete', 'sensitive', 'results', 'ukrainians', 'particular', 'regard', 'release', 'prisoners', 'war', 'thank', 'saudi', 'partners', 'cooperation', 'follow', 'cnbc', 'live', 'udates', 'war', 'ukraine', 'lightning', 'strikes', 'twice', 'ford', 'extended', 'production', 'pause', 'electric', 'lightning', 'battery', 'issue', 'resulted', 'one', 'pickups', 'catching', 'fire', 'earlier', 'month', 'automaker', 'told', 'cnbc', 'friday', 'battery', 'supplier', 'sk', 'resumed', 'building', 'battery', 'cells', 'georgia', 'plant', 'ford', 'said', 'take', 'time', 'ensure', 'back', 'building', 'cells', 'deliver', 'lightning', 'production', 'lightning', 'critical', 'ford', 'electric', 'vehicle', 'transition', 'plans', 'viewed', 'many', 'industry', 'best', 'candidate', 'mass', 'adoption', 'increasingly', 'crowded', 'electric', 'truck', 'segment']\n",
            "[('foreign', 'minister'), ('according', 'saudi'), ('adoption', 'increasingly'), ('agency', 'course'), ('agreement', 'calls'), ('aid', 'package'), ('aid', 'unlikely'), ('al', 'saud'), ('ally', 'signed'), ('andriy', 'yermak'), ('annual', 'letter'), ('another', 'launch'), ('anticipated', 'year'), ('arab', 'emirates'), ('arabia', 'russia'), ('associates', 'bears'), ('astronauts', 'russian'), ('attempt', 'rebound'), ('attempt', 'saudis'), ('automaker', 'told'), ('averages', 'attempt'), ('back', 'building'), ('back', 'stock'), ('back', 'ukraine'), ('battery', 'cells'), ('battery', 'issue'), ('battery', 'supplier'), ('bears', 'dusting'), ('beneficial', 'ceos'), ('beneficial', 'shareholders')]\n",
            "{'neg': 0.054, 'neu': 0.893, 'pos': 0.053, 'compound': -0.6166}\n"
          ]
        }
      ]
    },
    {
      "cell_type": "code",
      "source": [
        "### Same score in Vader Lexicon regardless going through pre-process"
      ],
      "metadata": {
        "id": "YnnaSe1xj0mr"
      },
      "execution_count": null,
      "outputs": []
    },
    {
      "cell_type": "code",
      "source": [
        "### 02/28/2023\n",
        "### url = 'https://www.cnbc.com/2023/02/28/5-things-to-know-before-the-stock-market-opens-tuesday-february-28.html'\n",
        "\n",
        "text2 ='1. So long, February The bulls will be eager to say farewell to February. All three major indices are set to finish in the red for the month as we enter the final day of the frame. The Dow has suffered the most. It’s down 3.5% for February and negative on the year. The Nasdaq and S&P 500, meanwhile, are still positive for the year. Tuesday also brings a slate of key earnings reports, particularly Target (see below), and more economic data, namely consumer confidence, wholesale inventories, Chicago PMI and the S&P Case-Shiller home prices index. Follow live markets updates. 2. Target reports earnings Target is joining the cautious chorus. The big box retailer, which reported earnings Tuesday, issued soft guidance for the year, a week after Walmart and Home Depot also warned they’re preparing for a slowdown in consumer spending. Target said it expects full-year earnings per share of between $7.75 to $8.75, which is below Wall Street expectations of $9.23 per share. On the bright side for Target, the company topped Wall Street’s earnings expectations for the first time in a year as it squeezed out a sales gain for the holiday quarter. 3. Murdoch under the microscope More documents from the $1.6 billion Dominion Voting defamation lawsuit against Fox News and its parent company came out Monday night, and they aren’t pretty for the conservative network. In the latest court filings, Fox Corp. Chairman Rupert Murdoch acknowledged in a deposition that some hosts on his right-wing cable channels, Fox News and Fox Business, endorsed then-President Donald Trump’s false claims about the 2020 election being stolen from him. “Some of our commentators were endorsing it,” Murdoch said. “They endorsed.” Fox’s lawyers have defended the company by saying this is all a matter of free speech protected by the First Amendment. The case is slated to go to trial in mid-April. 4. Meta gets deeper into AI Facebook parent company Meta said Monday it would create a new group that will focus on what’s called generative artificial intelligence. The move makes Meta the latest Big Tech company to get in on the AI craze, along with Microsoft Bing’s OpenAI-powered chatbot, OpenAI’s own ChatGPT and Google’s Bard product. It also comes days after Meta itself announced its own large language model, LLaMA. “We have a lot of foundational work to do before getting to the really futuristic experiences, but I’m excited about all of the new things we’ll build along the way,” CEO Mark Zuckerberg said. 5. Ukraine on verge of losing mining city The situation in Bakhmut, a mining city in eastern Ukraine, is deteriorating for Ukrainian forces. Russian troops and mercenaries from the Vladimir Putin-aligned Wagner Group have been targeting the city for months, slowly chipping away at its defenses and leaving a wide swath of destruction. “The enemy is constantly destroying everything that can be used to protect our positions, to gain a foothold and ensure defense,” Ukrainian President Volodymyr Zelenskyy said Monday. Follow live war updates. '"
      ],
      "metadata": {
        "id": "Zv0smJFAZ0Wq"
      },
      "execution_count": null,
      "outputs": []
    },
    {
      "cell_type": "code",
      "source": [
        "text2 = text2.lower()"
      ],
      "metadata": {
        "id": "dLQzuKbFdbKa"
      },
      "execution_count": null,
      "outputs": []
    },
    {
      "cell_type": "code",
      "source": [
        "print(text2)"
      ],
      "metadata": {
        "colab": {
          "base_uri": "https://localhost:8080/"
        },
        "id": "RhSg07rfdbTx",
        "outputId": "9e9917b2-c789-43bb-aa1c-60f1bab328b4"
      },
      "execution_count": null,
      "outputs": [
        {
          "output_type": "stream",
          "name": "stdout",
          "text": [
            "1. so long, february the bulls will be eager to say farewell to february. all three major indices are set to finish in the red for the month as we enter the final day of the frame. the dow has suffered the most. it’s down 3.5% for february and negative on the year. the nasdaq and s&p 500, meanwhile, are still positive for the year. tuesday also brings a slate of key earnings reports, particularly target (see below), and more economic data, namely consumer confidence, wholesale inventories, chicago pmi and the s&p case-shiller home prices index. follow live markets updates. 2. target reports earnings target is joining the cautious chorus. the big box retailer, which reported earnings tuesday, issued soft guidance for the year, a week after walmart and home depot also warned they’re preparing for a slowdown in consumer spending. target said it expects full-year earnings per share of between $7.75 to $8.75, which is below wall street expectations of $9.23 per share. on the bright side for target, the company topped wall street’s earnings expectations for the first time in a year as it squeezed out a sales gain for the holiday quarter. 3. murdoch under the microscope more documents from the $1.6 billion dominion voting defamation lawsuit against fox news and its parent company came out monday night, and they aren’t pretty for the conservative network. in the latest court filings, fox corp. chairman rupert murdoch acknowledged in a deposition that some hosts on his right-wing cable channels, fox news and fox business, endorsed then-president donald trump’s false claims about the 2020 election being stolen from him. “some of our commentators were endorsing it,” murdoch said. “they endorsed.” fox’s lawyers have defended the company by saying this is all a matter of free speech protected by the first amendment. the case is slated to go to trial in mid-april. 4. meta gets deeper into ai facebook parent company meta said monday it would create a new group that will focus on what’s called generative artificial intelligence. the move makes meta the latest big tech company to get in on the ai craze, along with microsoft bing’s openai-powered chatbot, openai’s own chatgpt and google’s bard product. it also comes days after meta itself announced its own large language model, llama. “we have a lot of foundational work to do before getting to the really futuristic experiences, but i’m excited about all of the new things we’ll build along the way,” ceo mark zuckerberg said. 5. ukraine on verge of losing mining city the situation in bakhmut, a mining city in eastern ukraine, is deteriorating for ukrainian forces. russian troops and mercenaries from the vladimir putin-aligned wagner group have been targeting the city for months, slowly chipping away at its defenses and leaving a wide swath of destruction. “the enemy is constantly destroying everything that can be used to protect our positions, to gain a foothold and ensure defense,” ukrainian president volodymyr zelenskyy said monday. follow live war updates. \n"
          ]
        }
      ]
    },
    {
      "cell_type": "code",
      "source": [
        "scores = sia.polarity_scores(text2)"
      ],
      "metadata": {
        "id": "Kh-a3JmthcsJ"
      },
      "execution_count": null,
      "outputs": []
    },
    {
      "cell_type": "code",
      "source": [
        "print(\"Sentiment scores:\")\n",
        "print(scores)"
      ],
      "metadata": {
        "colab": {
          "base_uri": "https://localhost:8080/"
        },
        "id": "2hxTdEeUhcuo",
        "outputId": "7ae60a7b-9672-4f9c-c97e-fde543bea179"
      },
      "execution_count": null,
      "outputs": [
        {
          "output_type": "stream",
          "name": "stdout",
          "text": [
            "Sentiment scores:\n",
            "{'neg': 0.066, 'neu': 0.851, 'pos': 0.083, 'compound': 0.2023}\n"
          ]
        }
      ]
    },
    {
      "cell_type": "code",
      "source": [
        "tokens = word_tokenize(text2)"
      ],
      "metadata": {
        "id": "Jx4bVaB9_gSL"
      },
      "execution_count": null,
      "outputs": []
    },
    {
      "cell_type": "code",
      "source": [
        "stop_words = set(stopwords.words('english'))"
      ],
      "metadata": {
        "id": "HqR039uN_gd6"
      },
      "execution_count": null,
      "outputs": []
    },
    {
      "cell_type": "code",
      "source": [
        "filtered_tokens = [token for token in tokens if token not in stop_words and token.isalpha()]"
      ],
      "metadata": {
        "id": "D9XLAUYI_ggz"
      },
      "execution_count": null,
      "outputs": []
    },
    {
      "cell_type": "code",
      "source": [
        "bigram_measures = BigramAssocMeasures()"
      ],
      "metadata": {
        "id": "VmA8g09I_gjX"
      },
      "execution_count": null,
      "outputs": []
    },
    {
      "cell_type": "code",
      "source": [
        "finder = BigramCollocationFinder.from_words(filtered_tokens)\n",
        "bigrams = finder.nbest(bigram_measures.raw_freq, 30)"
      ],
      "metadata": {
        "id": "htdQD-Nb_glt"
      },
      "execution_count": null,
      "outputs": []
    },
    {
      "cell_type": "code",
      "source": [
        "analyzer = SentimentIntensityAnalyzer()\n",
        "sentiment = analyzer.polarity_scores(text2)"
      ],
      "metadata": {
        "id": "Fo0xz1Ed_xC3"
      },
      "execution_count": null,
      "outputs": []
    },
    {
      "cell_type": "code",
      "source": [
        "print(filtered_tokens)\n",
        "print(bigrams)\n",
        "print(sentiment)"
      ],
      "metadata": {
        "colab": {
          "base_uri": "https://localhost:8080/"
        },
        "id": "-zzCv7BI_xFl",
        "outputId": "8cd1da2c-ce20-451a-e98d-7a113cd3fb37"
      },
      "execution_count": null,
      "outputs": [
        {
          "output_type": "stream",
          "name": "stdout",
          "text": [
            "['long', 'february', 'bulls', 'eager', 'say', 'farewell', 'february', 'three', 'major', 'indices', 'set', 'finish', 'red', 'month', 'enter', 'final', 'day', 'frame', 'dow', 'suffered', 'february', 'negative', 'year', 'nasdaq', 'p', 'meanwhile', 'still', 'positive', 'year', 'tuesday', 'also', 'brings', 'slate', 'key', 'earnings', 'reports', 'particularly', 'target', 'see', 'economic', 'data', 'namely', 'consumer', 'confidence', 'wholesale', 'inventories', 'chicago', 'pmi', 'p', 'home', 'prices', 'index', 'follow', 'live', 'markets', 'updates', 'target', 'reports', 'earnings', 'target', 'joining', 'cautious', 'chorus', 'big', 'box', 'retailer', 'reported', 'earnings', 'tuesday', 'issued', 'soft', 'guidance', 'year', 'week', 'walmart', 'home', 'depot', 'also', 'warned', 'preparing', 'slowdown', 'consumer', 'spending', 'target', 'said', 'expects', 'earnings', 'per', 'share', 'wall', 'street', 'expectations', 'per', 'share', 'bright', 'side', 'target', 'company', 'topped', 'wall', 'street', 'earnings', 'expectations', 'first', 'time', 'year', 'squeezed', 'sales', 'gain', 'holiday', 'quarter', 'murdoch', 'microscope', 'documents', 'billion', 'dominion', 'voting', 'defamation', 'lawsuit', 'fox', 'news', 'parent', 'company', 'came', 'monday', 'night', 'pretty', 'conservative', 'network', 'latest', 'court', 'filings', 'fox', 'chairman', 'rupert', 'murdoch', 'acknowledged', 'deposition', 'hosts', 'cable', 'channels', 'fox', 'news', 'fox', 'business', 'endorsed', 'donald', 'trump', 'false', 'claims', 'election', 'stolen', 'commentators', 'endorsing', 'murdoch', 'said', 'fox', 'lawyers', 'defended', 'company', 'saying', 'matter', 'free', 'speech', 'protected', 'first', 'amendment', 'case', 'slated', 'go', 'trial', 'meta', 'gets', 'deeper', 'ai', 'facebook', 'parent', 'company', 'meta', 'said', 'monday', 'would', 'create', 'new', 'group', 'focus', 'called', 'generative', 'artificial', 'intelligence', 'move', 'makes', 'meta', 'latest', 'big', 'tech', 'company', 'get', 'ai', 'craze', 'along', 'microsoft', 'bing', 'chatbot', 'openai', 'chatgpt', 'google', 'bard', 'product', 'also', 'comes', 'days', 'meta', 'announced', 'large', 'language', 'model', 'llama', 'lot', 'foundational', 'work', 'getting', 'really', 'futuristic', 'experiences', 'excited', 'new', 'things', 'build', 'along', 'way', 'ceo', 'mark', 'zuckerberg', 'said', 'ukraine', 'verge', 'losing', 'mining', 'city', 'situation', 'bakhmut', 'mining', 'city', 'eastern', 'ukraine', 'deteriorating', 'ukrainian', 'forces', 'russian', 'troops', 'mercenaries', 'vladimir', 'wagner', 'group', 'targeting', 'city', 'months', 'slowly', 'chipping', 'away', 'defenses', 'leaving', 'wide', 'swath', 'destruction', 'enemy', 'constantly', 'destroying', 'everything', 'used', 'protect', 'positions', 'gain', 'foothold', 'ensure', 'defense', 'ukrainian', 'president', 'volodymyr', 'zelenskyy', 'said', 'monday', 'follow', 'live', 'war', 'updates']\n",
            "[('follow', 'live'), ('fox', 'news'), ('mining', 'city'), ('parent', 'company'), ('per', 'share'), ('said', 'monday'), ('wall', 'street'), ('acknowledged', 'deposition'), ('ai', 'craze'), ('ai', 'facebook'), ('along', 'microsoft'), ('along', 'way'), ('also', 'brings'), ('also', 'comes'), ('also', 'warned'), ('amendment', 'case'), ('announced', 'large'), ('artificial', 'intelligence'), ('away', 'defenses'), ('bakhmut', 'mining'), ('bard', 'product'), ('big', 'box'), ('big', 'tech'), ('billion', 'dominion'), ('bing', 'chatbot'), ('box', 'retailer'), ('bright', 'side'), ('brings', 'slate'), ('build', 'along'), ('bulls', 'eager')]\n",
            "{'neg': 0.066, 'neu': 0.851, 'pos': 0.083, 'compound': 0.2023}\n"
          ]
        }
      ]
    },
    {
      "cell_type": "code",
      "source": [
        "### 03/01/2023\n",
        "### url = 'https://www.cnbc.com/2023/03/01/5-things-to-know-before-the-stock-market-opens-wednesday-march-1.html'\n",
        "\n",
        "text3 = '1. In like a lion? Time to wipe the slate clean with a new month. With a bleak February in the books, investors are wondering what March could bring. The Dow is negative for the year after finishing last month down nearly 4.2%. The S&P 500 and Nasdaq are still positive for 2023 despite falling 2.6% and 1.1%, respectively, in February. On Wednesday, investors will chew over more economic data, as well as earnings reports from home improvement retailer Lowe’s and retail chain Kohl’s. Follow live markets updates. 2. General Motors layoffs Just weeks after General Motors executives said they weren’t planning any layoffs, the company laid off about 500 salaried employees. The cuts come on the heels of performance evaluations, and they are part of the company’s plans to trim $2 billion in costs over the next two years. The layoffs affect a “small number of global executives and classified employees following our most recent performance calibration,” according to internal company communications. The auto industry had largely avoided layoffs until recently, with major technology companies dominating the news about job cuts. Last month, GM rival Ford said it would slash about 3,800 jobs in Europe. 3. More retail caution Lowe’s is the latest to join the retail caution parade. The home improvement retailer followed its rival Home Depot, as well as big box giants Walmart and Target, in issuing conservative sales guidance for the year. To focus specifically on home improvement, Lowe’s and Home Depot find themselves in a a particularly murky space. Mortgage rates are higher (see below), which is putting the squeeze on the housing market, which should put more of an emphasis on renovations as more people stay in their current homes. Yet many people have already used pandemic-era stimulus money, home equity or other savings to spruce up their homes during the earlier days of Covid. 4. Mortgage demand sinks For a little while there, you could see some green shoots ahead of the spring selling season. But maybe the groundhog meant six more weeks of housing market winter when he saw his shadow Feb. 2. In just about a month, mortgage rates have risen a half a percentage point, and that has pushed demand for mortgages to buy a home to a 28-year low. Mortgage applications to purchase a home dropped 6% week over week, according to the Mortgage Bankers Association. Demand is down 44% compared to the same period last year, when rates were in the 4% range. Discover more about the latest mortgage data from CNBC’s Diana Olick. Rivian, the upstart EV truck maker, reported lackluster earnings Tuesday, while also forecasting a lighter-than-expected production output for the year. Rivian said it expects to produce 50,000 vehicles this year, well below Wall Street’s estimates of about 60,000. The company blamed supply chain issues for recent hiccups, as suppliers were short on certain components. While the company is a little gloomy about this year, it does see some silver linings. “We expect supply chain challenges to persist into 2023 but with better predictability relative to what was experienced in 2022,” Rivian said in a letter to shareholders.'"
      ],
      "metadata": {
        "id": "KaXbYP1rhcw_"
      },
      "execution_count": null,
      "outputs": []
    },
    {
      "cell_type": "code",
      "source": [
        "text3 = text3.lower()"
      ],
      "metadata": {
        "id": "5EptJvhZhczM"
      },
      "execution_count": null,
      "outputs": []
    },
    {
      "cell_type": "code",
      "source": [
        "scores = sia.polarity_scores(text3)"
      ],
      "metadata": {
        "id": "YmkLAiQThc1P"
      },
      "execution_count": null,
      "outputs": []
    },
    {
      "cell_type": "code",
      "source": [
        "print(\"Sentiment scores:\")\n",
        "print(scores)"
      ],
      "metadata": {
        "colab": {
          "base_uri": "https://localhost:8080/"
        },
        "id": "UTywg4HhzBDW",
        "outputId": "d99ff467-1c22-46af-a180-d1537fd9e392"
      },
      "execution_count": null,
      "outputs": [
        {
          "output_type": "stream",
          "name": "stdout",
          "text": [
            "Sentiment scores:\n",
            "{'neg': 0.044, 'neu': 0.898, 'pos': 0.059, 'compound': 0.7061}\n"
          ]
        }
      ]
    },
    {
      "cell_type": "code",
      "source": [
        "### 03/02/2023\n",
        "### url = 'https://www.cnbc.com/2023/03/02/5-things-to-know-before-the-stock-market-opens-thursday-march-2.html'\n",
        "\n",
        "text4 = '1. Off to a weak start February’s gloominess carried over to March. The three indicies either fell or landed in flat territory Wednesday (the Nasdaq and the S&P 500 slid while the Dow squeaked out the barest gain), and the yield on the 10-year Treasury note hit 4% for the first time since November. That action indicates the pain is going to stick around a little longer. On Thursday, investors will chew over the latest weekly jobless claims data as they anticipate the Federal Reserve’s next moves in its rate-hiking battle against inflation. Fed Gov. Christopher Waller is slated to speak Thursday afternoon. Follow live markets updates. 2. CRM of the crop Salesforce surprised everyone – in a good way – with its earnings report Wednesday. Shares of the enterprise software giant and Slack parent surged around 15% in off-hours trading after the company easily topped Wall Street’s expectations for revenue and profit. Activist investors have been putting the squeeze on Salesforce and its CEO, Marc Benioff, looking for fatter profits. The company recently cut 10% of its workforce, resulting in more than $800 million in restructuring costs, as part of a longer-term attempt to control spending. Benioff also said the company disbanded its board committee on mergers and acquisitions, while it works with consultancy Bain on reviewing Salesforce’s business. 3. Tesla’s new ‘master plan’ underwhelms Shares of Tesla fell more than 5% in off-hours trading after the electric vehicle company unveiled its latest “master plan,” which, according to CNBC’s Lora Kolodny, was light on details and specifics. CEO Elon Musk spoke in utopian terms as he kicked off the presentation. “There is a clear path to a sustainable-energy Earth. It doesn’t require destroying natural habitats,” he said. “It doesn’t require us to be austere and stop using electricity and be in the cold or anything.” In terms of nitty-gritty business, Tesla is sticking with its goal of producing 20 million EVs a year by 2030. It’s got a long way to go, though. Last year, the company said it delivered a little more than 1.3 million autos. 4. Biden prepares his veto pen In the biggest sign yet that political winds are blowing against environmental, social, and corporate governance, or ESG, guidelines, the Democratic-led Senate on Wednesday voted to overturn a rule that allows retirement funds to consider such progressive standards when making investment decisions. Sen. Jon Tester, a moderate Democrat from Montana, and conservative Democratic Sen. Joe Manchin of West Virginia – who are up for reelection next year in their deeply Republican states – voted with Republicans to make it a 50-46 tally. However, President Joe Biden has said he would veto the measure in order to keep the rule in place. It would be the first veto of his presidency. 5. Sanders turns up the heat on Schultz Sen. Bernie Sanders, the democratic socialist from Vermont, is serious about hauling Howard Schultz in for questioning after the outgoing Starbucks interim CEO declined an invitation to testify before lawmakers. The progressive, pro-union senator set a vote for next Wednesday that will decide whether to subpoena Schultz to give testimony to the Senate Health, Education, Labor and Pensions, or HELP, Committee, which Sanders chairs. Baristas at nearly 300 Starbucks stores have voted to unionize, a movement Schultz has opposed. Sanders, in turn, has accused Schultz of union busting.'"
      ],
      "metadata": {
        "id": "wRMWsjlTzBGh"
      },
      "execution_count": null,
      "outputs": []
    },
    {
      "cell_type": "code",
      "source": [
        "text4 = text4.lower()"
      ],
      "metadata": {
        "id": "VBvwswp6zBJA"
      },
      "execution_count": null,
      "outputs": []
    },
    {
      "cell_type": "code",
      "source": [
        "scores = sia.polarity_scores(text4)"
      ],
      "metadata": {
        "id": "oTBuX_FF0Gmv"
      },
      "execution_count": null,
      "outputs": []
    },
    {
      "cell_type": "code",
      "source": [
        "print(\"Sentiment scores:\")\n",
        "print(scores)"
      ],
      "metadata": {
        "colab": {
          "base_uri": "https://localhost:8080/"
        },
        "id": "tCNzP51I1Ms7",
        "outputId": "c3d734f8-f0d4-4547-9393-907a5be4b660"
      },
      "execution_count": null,
      "outputs": [
        {
          "output_type": "stream",
          "name": "stdout",
          "text": [
            "Sentiment scores:\n",
            "{'neg': 0.043, 'neu': 0.907, 'pos': 0.051, 'compound': 0.5859}\n"
          ]
        }
      ]
    },
    {
      "cell_type": "code",
      "source": [
        "### 03/03/023\n",
        "### url = 'https://www.cnbc.com/2023/03/03/5-things-to-know-before-the-stock-market-opens-friday-march-3.html'\n",
        "text5 = '1. What the Fed? Stocks finished higher Thursday after Atlanta Fed President Raphael Bostic gave sort-of dovish commentary about what investors should expect from further rate hikes. He said that while some Fed officials think a half-percentage-point increase should be in the cards, he thinks a quarter-point raise would be doable. After the close, though, Fed Governor Christopher Waller swooped in with comments perceived to be more hawkish, saying the central bank could end up at a higher terminal rate if inflation data remains hot. (Bizarre side note: Waller didn’t actually get to deliver his prepared remarks Thursday. The event was canceled after a participant on the Zoom meeting showed explicit pornographic images.) Follow live markets updates. 2. ESPN aims to be a live sports hub ESPN, the self-proclaimed “worldwide leader in sports,” is working on a way to get sports fans to go to its site and app to find out where live sporting events are being streamed or broadcast – even if they’re not being shown on ESPN. The sports network, which is owned by Disney, has had talks with major leagues and media rivals about setting up what would effectively be a TV guide to help fans find local or national games in an increasingly fractured and confusing environment, CNBC’s Alex Sherman reports. ESPN’s exploration of the idea comes as Disney CEO Bob Iger made the sports operation into a standalone unit within the company’s corporate structure. That’s putting a lot of scrutiny and pressure on ESPN Chairman Jimmy Pitaro – and it comes with the potential for a big payoff as it’s clearer than ever how important ESPN is to Disney’s immediate future. 3. Recharging in progress Ford now has a date for when it will restart production of its electric F-150 Lightning pickup: March 13. That will mark more than a month since the vehicle fire that prompted the production pause. Ford said the stoppage is giving its battery supplier, SK On, more time to build and deliver battery packs to the plant in Michigan that makes the electric pickup trucks. The company is dealing with the Lightning issue as it tries to execute a turnaround following a rough 2022. Ford CEO Jim Farley last month blamed “execution issues” for the company’s lackluster fourth-quarter earnings. 4. Crypto bank in big trouble The FTX contagion continues. Silvergate Capital’s stock fell more than 57% Thursday after the crypto bank delayed its annual financial report and warned it may not survive. The bank said it is trying to get a handle on the impact on the “sale of additional investment securities beyond what was previously anticipated.” Silvergate is also facing heat from investigators. The Justice Department said last month it is probing the bank’s dealings with since-indicted Sam Bankman-Fried’s failed crypto exchange FTX and its sister company Alameda Research. 5. Snow business like show business That photo is real. Even La-La Land is getting a real taste of winter this year. Los Angeles County is one of 13 counties covered by an emergency declaration this week from Gov. Gavin Newsom as California, the Land of Sunshine itself, has been pounded by weirdly intense weather. Heavy snowfall amounts shut down highways, left people stranded in their homes and forced the closure of national parks. Check out stunning images of southern California’s wild winter. '"
      ],
      "metadata": {
        "id": "DWaz5-kR1OMe"
      },
      "execution_count": null,
      "outputs": []
    },
    {
      "cell_type": "code",
      "source": [
        "text5 = text5.lower()"
      ],
      "metadata": {
        "id": "umB8LRe-AyKP"
      },
      "execution_count": null,
      "outputs": []
    },
    {
      "cell_type": "code",
      "source": [
        "scores = sia.polarity_scores(text5)"
      ],
      "metadata": {
        "id": "2OlcPA-xAyRt"
      },
      "execution_count": null,
      "outputs": []
    },
    {
      "cell_type": "code",
      "source": [
        "print(\"Sentiment scores:\")\n",
        "print(scores)"
      ],
      "metadata": {
        "colab": {
          "base_uri": "https://localhost:8080/"
        },
        "id": "iS8tfKSmAyWn",
        "outputId": "ef72f12f-e441-4aec-85aa-9c417e86d619"
      },
      "execution_count": null,
      "outputs": [
        {
          "output_type": "stream",
          "name": "stdout",
          "text": [
            "Sentiment scores:\n",
            "{'neg': 0.053, 'neu': 0.888, 'pos': 0.059, 'compound': 0.3612}\n"
          ]
        }
      ]
    },
    {
      "cell_type": "code",
      "source": [
        "### 03/06/2023\n",
        "### url = 'https://www.cnbc.com/2023/03/06/5-things-to-know-before-the-stock-market-opens-monday-march-6.html'\n",
        "\n",
        "text6 = 'Entering a pivotal week U.S. stock markets enter the week coming off a strong five-day frame. The Dow on Friday broke a four-week losing streak, while the S&P 500 and the Nasdaq also finished the week higher. Whether that was a brief reprieve or the beginning of a new rebound remains to be seen, but the general mood is glum. While inflation has cooled, the economic picture continues to favor high inflation. That means more hawkishness from the Federal Reserve. On Tuesday and Wednesday, we’ll hear from Fed Chairman Jerome Powell, and investors will be eager for the latest clues on how the central bank will approach its next rate-hike decision. This Friday also brings the February jobs report. If it’s anything like January’s number (a surprisingly big 517,000), watch out. Follow live markets updates. 2. China’s cautious outlook Over the weekend, China announced it would be targeting 5% GDP growth for the year. That’s fairly conservative, considering the country’s GDP target for 2022 was slightly higher than that, even as it still had so-called “zero Covid” measures in place. (China ended up reporting 3% GDP growth for 2022.) The muted official projection from the Chinese government reflects the broader uncertainty in markets and economies across the globe. There’s the Russian war in Ukraine, the U.S.-China trade and tech standoff, India’s continued emergence and persistent worries about inflation. In China, meanwhile, the government faces the aftermath of lifting Covid restrictions and a real estate sector that has a long way to go before it recovers. 3. Pulse of the consumer Earnings season is tapering off, but there are still plenty of consumer and retail names due to report. Investors are keeping a sharp eye on such companies to get a more detailed idea of how the consumer is faring in this inflation-beset economy. So far, the word on the retail front is “caution,” as companies are expecting a more thrifty consumer this year. Here are the big names reporting earnings this week: Monday: ThredUp (after the bell) Tuesday: Dick’s Sporting Goods (before the bell); Stitch Fix (after the bell Wednesday: Adidas (before the bell) Thursday: Gap and Ulta Beauty (after the bell) 4. Tesla cuts prices, again Tesla is flexing its advantage in the electric vehicle space by again lowering prices on some of its models while competitors such as General Motors and Ford scramble to catch up on EVs. The company cut the prices for two of its more expensive models, the S and X, according to Reuters and other outlets. The cuts come soon after Tesla CEO Elon Musk acknowledged that demand had picked up following other recent price cuts. “The desire for people to own a Tesla is extremely high. The limiting factor is their ability to pay for a Tesla,” he said last week at the company’s investor day. Stoking demand has become Tesla’s top priority after a brutal 2022 for the company’s stock. 5. ‘Very much like Hell’ The battle for the eastern Ukrainian city of Bakhmut rages on. Russian forces have had their Ukrainian counterparts on the ropes in the area for a little while now, but it is still unclear how long the fight there will last. A Ukraine commander said Sunday that defenses were still holding up, although he conceded the situation in Bakhmut was “very much like hell, as it is on the entire eastern front.” Elsewhere, German Chancellor Olaf Scholz told CNN that the only condition for peace talks would be the complete withdrawal of Russian forces from Ukraine. Follow live war updates.'"
      ],
      "metadata": {
        "id": "auWCbXB75Q3m"
      },
      "execution_count": null,
      "outputs": []
    },
    {
      "cell_type": "code",
      "source": [
        "text6 = text6.lower()"
      ],
      "metadata": {
        "id": "2Pb7roJ9Azwd"
      },
      "execution_count": null,
      "outputs": []
    },
    {
      "cell_type": "code",
      "source": [
        "scores = sia.polarity_scores(text6)"
      ],
      "metadata": {
        "id": "hV9iu4E-C0PG"
      },
      "execution_count": null,
      "outputs": []
    },
    {
      "cell_type": "code",
      "source": [
        "print(\"Sentiment scores:\")\n",
        "print(scores)"
      ],
      "metadata": {
        "colab": {
          "base_uri": "https://localhost:8080/"
        },
        "id": "hH4re3PkC0Xz",
        "outputId": "be1892f3-de1b-4484-a641-b78032081c17"
      },
      "execution_count": null,
      "outputs": [
        {
          "output_type": "stream",
          "name": "stdout",
          "text": [
            "Sentiment scores:\n",
            "{'neg': 0.107, 'neu': 0.811, 'pos': 0.082, 'compound': -0.9584}\n"
          ]
        }
      ]
    },
    {
      "cell_type": "code",
      "source": [
        "### 03/07/2023\n",
        "### url = 'https://www.cnbc.com/2023/03/07/5-things-to-know-before-the-stock-market-opens-tuesday-march-7.html'\n",
        "\n",
        "text7 = '1. Those stubborn bond yields For much of Monday, stocks looked like they were primed for a good day. Apple, fresh off a buy rating from Goldman Sachs, lifted stocks, including some of its fellow mega cap tech companies. But the three major indices finished the day only slightly higher. Toward the end of the session, bond yields crept up again, taking the steam out of the equities rally. “It really just felt like back to kind of those 2020 days where a handful of the FANG names were doing a lot of the heavy lifting, and to us, that suggests this rally is feeling a bit on its last legs,” BTIG’s Jonathan Krinsky told CNBC’s “Closing Bell” on Monday. Follow live markets updates. 2. Powell visits the Hill Investors will be glued to Federal Reserve Chairman Jerome Powell’s congressional testimony this week. On Tuesday, he will appear before the Senate Banking Committee, and on Wednesday he will face the House Financial Services Committee. It couldn’t be a more important time for Powell to give testimony. The Fed has been steadily jacking up rates to fight inflation, but inflation has remained stubbornly high despite some recent progress. As CNBC’s Jeff Cox points out, he’ll need to convince politicians and investors alike that the Fed can indeed tame overheated price growth while bringing the economy in for a soft landing. Be sure to tune in at 10 a.m. ET for the Senate hearing. 3. Newsom vs. Walgreens California Gov. Gavin Newsom is taking on pharmacy and health care giant Walgreens over the company’s decision not to sell abortion pills in about 20 states following pressure from several Republican attorneys general. “California won’t be doing business with @walgreens -- or any company that cowers to the extremists and puts women’s lives at risk,” Newsom, a Democrat, wrote on Twitter. “We’re done.” A spokesperson for the governor told CNBC that Newsom’s government is evaluating all the business Walgreens does with California. For its part, Walgreens said it plans to sell the commonly used abortion pill mifepristone “in any jurisdiction where it is legally permissible to do so,” according to a statement. 4. Google’s ‘ghost town’ defense Google CEO Sundar Pichai tried to tamp down concerns about a new desk-sharing policy for the cloud unit’s employees, according to audio of a companywide meeting that was obtained by CNBC’s Jennifer Elias. “There are people, by the way, who routinely complain that they come in and there are big swaths of empty desks and it feels like it’s a ghost town — it’s just not a nice experience,” Pichai told employees, according to the recording. The CEO’s remarks came after several employees griped about how executives rolled out the desk-sharing messaging. He read a comment that said “bad things happen, no need to make every bad thing sound like a miracle.” In response, Pichai said: “I agree with the sentiment here. The feedback is valid.” 5. China defends Russia ties Days after U.S. Secretary of State Antony Blinken criticized China for backing Russia’s year-long war in Ukraine, China’s new foreign minister pushed back to say his nation’s relations with the Russian government don’t pose a threat. “The more unstable the world becomes the more imperative it is for China and Russia to steadily advance relations,” Qin Gang said at his first press conference since ascending to the role. Elsewhere, Ukraine says Russia has boosted the number of missile-carrying vessels in the Black Sea. Follow live war updates.'"
      ],
      "metadata": {
        "id": "fPtSfJfx1OQd"
      },
      "execution_count": null,
      "outputs": []
    },
    {
      "cell_type": "code",
      "source": [
        "text7 = text7.lower()"
      ],
      "metadata": {
        "id": "NiJazDzIA0qD"
      },
      "execution_count": null,
      "outputs": []
    },
    {
      "cell_type": "code",
      "source": [
        "scores = sia.polarity_scores(text7)"
      ],
      "metadata": {
        "id": "TkgxcpFzC1CT"
      },
      "execution_count": null,
      "outputs": []
    },
    {
      "cell_type": "code",
      "source": [
        "print(\"Sentiment scores:\")\n",
        "print(scores)"
      ],
      "metadata": {
        "colab": {
          "base_uri": "https://localhost:8080/"
        },
        "id": "hDjO5A9RC1HP",
        "outputId": "da8d96ca-f87d-423f-9567-5fcabe208f9d"
      },
      "execution_count": null,
      "outputs": [
        {
          "output_type": "stream",
          "name": "stdout",
          "text": [
            "Sentiment scores:\n",
            "{'neg': 0.088, 'neu': 0.84, 'pos': 0.072, 'compound': -0.9535}\n"
          ]
        }
      ]
    },
    {
      "cell_type": "code",
      "source": [
        "### 03/08/2023\n",
        "### url = 'https://www.cnbc.com/2023/03/08/5-things-to-know-before-the-stock-market-opens-wednesday-march-8.html'\n",
        "\n",
        "text8 = '1. Powell brings the pain Stocks sold off broadly and bond yields spiked Tuesday as Federal Reserve Chairman Jerome Powell told senators that rates will likely end up higher than anticipated. The Dow dropped by about 575 points, while the S&P 500 and the Nasdaq declined 1.53% and 1.25%, respectively. Powell also warned that, if economic data continue to run hot, the Fed could return to quicker rate hikes after easing off the pedal during recent policy-setting meetings. There’s more to come, too. Powell is scheduled to speak again Wednesday, this time in front of the House Financial Services Committee. Follow live markets updates. 2. Biden targets TikTok A Senate bill that would give the Biden administration the power to ban Chinese-owned social video app TikTok just got a big, if not surprising, boost. The White House on Tuesday endorsed the bipartisan legislation and urged lawmakers to pass it quickly. The bill, dubbed the RESTRICT Act, would allow the Commerce secretary to review certain deals, software updates and data transfers, and then refer them to the president if there is an “undue or unacceptable risk” to national security. Then, the president can take action. “This bill presents a systematic framework for addressing technology-based threats to the security and safety of Americans,” Jake Sullivan, national security advisor to President Joe Biden, said in a statement. 3. More headaches for Fox Fox Corp, the parent company of right-wing cable channels Fox News and Fox Business, ran into a double whammy Tuesday. First, host Tucker Carlson came under bipartisan criticism for airing a package of security video from the Jan. 6, 2021, U.S. Capitol riot that suggested it was a peaceful event, and not what it actually was: a bloody attempted coup that has resulted in the indictments of hundreds of people. Then came the latest document dump from Dominion Voting’s $1.6 billion defamation suit against Fox. Revelations included Fox Chairman Rupert Murdoch suggesting that hosts Sean Hannity and Laura Ingraham “went too far” in embracing Donald Trump’s false election fraud claims, as well as host Maria Bartiromo saying that she wouldn’t let her team refer to Joe Biden as “president-elect.” The Dominion-Fox trial is set to begin in mid-April. 4. Buffett makes a bigger bet on oil Warren Buffett can’t get enough of Occidental Petroleum. Berkshire Hathaway, the billionaire’s Nebraska-based conglomerate, snapped up about 5.8 million shares in the oil giant over the course of Friday, Monday and Tuesday, according to regulatory filings. The purchases brought Berkshire’s stake in Occidental to 200.2 million shares, or about $12.2 billion as of Tuesday’s close. Occidental was a big-time performer in 2022, an otherwise down year for the markets, its stock more than doubling in value. It’s now among Berkshire’s top 10 holdings, CNBC’s Yun Li reports. 5. Big twist in the Nord Stream story Blockbuster reports from The New York Times and The Washington Post say U.S. intelligence officials believe a pro-Ukraine group may be behind an attack last year on the undersea Nord Stream natural gas pipelines that connect Russia and Europe. Officials believe the saboteurs could be a combination of Ukrainian and Russian nationals, the Times said. Officials do not believe Ukrainian President Volodymyr Zelenskyy or his top aides were involved, or that Ukrainian government officials ordered the action, according to the Times. Russia, whose unjustified invasion of Ukraine has gone on for more than a year, met the reports with a mix of outrage and frustration. “We are still not allowed in the investigation. Only a few days ago we received notes about this from the Danes and Swedes,” a Kremlin spokesman said. “This is not just strange. It smells like a monstrous crime.” Follow live war updates. '"
      ],
      "metadata": {
        "id": "02IsbBQb1OTB"
      },
      "execution_count": null,
      "outputs": []
    },
    {
      "cell_type": "code",
      "source": [
        "text8 = text8.lower()"
      ],
      "metadata": {
        "id": "0kBrIThnA1r7"
      },
      "execution_count": null,
      "outputs": []
    },
    {
      "cell_type": "code",
      "source": [
        "scores = sia.polarity_scores(text8)"
      ],
      "metadata": {
        "id": "EtQLWnJpC15Z"
      },
      "execution_count": null,
      "outputs": []
    },
    {
      "cell_type": "code",
      "source": [
        "print(\"Sentiment scores:\")\n",
        "print(scores)"
      ],
      "metadata": {
        "colab": {
          "base_uri": "https://localhost:8080/"
        },
        "id": "IgoAizNLC17j",
        "outputId": "6719ed2d-74ee-4e10-8104-8d7a3c34e48e"
      },
      "execution_count": null,
      "outputs": [
        {
          "output_type": "stream",
          "name": "stdout",
          "text": [
            "Sentiment scores:\n",
            "{'neg': 0.076, 'neu': 0.845, 'pos': 0.078, 'compound': -0.6788}\n"
          ]
        }
      ]
    },
    {
      "cell_type": "code",
      "source": [
        "### 03/09/2023\n",
        "### url = 'https://www.cnbc.com/2023/03/09/5-things-to-know-before-the-stock-market-opens-thursday-march-9.html'\n",
        "\n",
        "text9 = '1. March muddle Stocks were mixed Wednesday as investors chewed over fresh jobs data and new comments from Federal Reserve Chairman Jerome Powell. The latest ADP jobs report showed that private payrolls grew more than expected in February. Powell, meanwhile, told House lawmakers very much the same things he told senators on Tuesday, that the Fed may well have to raise rates faster to cool down the economy. Powell did say, however, it’s still not decided what the Fed will do at its meeting later this month. Several retail names report quarterly earnings after the bell Thursday, including Gap and Ulta. Follow live markets updates. 2. Silvergate melts down Another major crypto player bites the dust, as the fallout spreads from the failure of Sam Bankman-Fried’s FTX. Silvergate Capital, a major lender in the cryptocurrency world that counted FTX as a key customer, said Wednesday it would close up shop and wind down its bank. The company said it would repay all of its deposits, but it didn’t explain how it would resolve claims against the business. The firm’s collapse comes soon after it delayed its annual financial report and warned that it could fail. Silvergate is also facing several regulatory probes and an investigation by the U.S. Justice Department. 3. Norfolk Southern CEO faces senators Norfolk Southern CEO Alan Shaw is set to testify at 10 a.m. ET before a Senate panel as he and his railroad company continue to clean up an environmental, political and public relations mess. Lawmakers have said they want to know more about the early February derailment of a Norfolk Southern train carrying hazardous chemicals through eastern Ohio. Shaw intends to tell lawmakers that he’s “deeply sorry” for the derailment and that the company is working to “make it right,” according to prepared remarks. While Shaw and officials have said it’s safe to return to East Palestine, the town most affected by the disaster, residents and cleanup workers have reported rashes, sore throats and other illnesses. No fatalties have been reported. 4. WWE’s gambit As odd as it may sound – gambling on scripted matches – people do bet on pro wrestling outcomes. But that part of the gambling world hasn’t gotten an official blessing from the biggest dog on the wrestling block, WWE. Until now. CNBC’s Alex Sherman reported Wednesday that Vince McMahon’s World Wrestling Entertainment has held talks with regulators in Michigan and Colorado about legalized bets on certain scripted matches. How would it work? It’s complicated, but sources say WWE is arguing it could be like betting on the Oscars, in which results are known by a few people before winners are announced but are otherwise under lock and key. It’s a tough sell for regulators and gambling companies alike, to be sure. Colorado’s gambling authority told CNBC late Wednesday, hours after the story broke, that it wasn’t considering the idea. 5. Russian airstrikes hammer Ukraine Russia resumed its wave of airborne terror on Ukraine, firing 81 missiles at cities such as Kyiv and Odesa in the early morning hours Thursday, according to Ukrainian officials. The barrage included six hypersonic missiles, which are too fast for Ukraine to intercept, the officials said. Kyiv’s mayor said 40% of the capital’s residents were without heat as a result of the attack. Elsewhere in Ukraine, the Zaporizhzhia nuclear power plant – the largest in Europe – has gone into “blackout mode.” Follow live war updates.'"
      ],
      "metadata": {
        "id": "z-p5_Z6j1OVc"
      },
      "execution_count": null,
      "outputs": []
    },
    {
      "cell_type": "code",
      "source": [
        "text9 = text9.lower()"
      ],
      "metadata": {
        "id": "EgIRsfyxA2Qg"
      },
      "execution_count": null,
      "outputs": []
    },
    {
      "cell_type": "code",
      "source": [
        "scores = sia.polarity_scores(text9)"
      ],
      "metadata": {
        "id": "8hGCTfMxC2nL"
      },
      "execution_count": null,
      "outputs": []
    },
    {
      "cell_type": "code",
      "source": [
        "print(\"Sentiment scores:\")\n",
        "print(scores)"
      ],
      "metadata": {
        "colab": {
          "base_uri": "https://localhost:8080/"
        },
        "id": "hJXHrLf9C2pa",
        "outputId": "74cb5069-a96b-433b-dda0-ab58f0a19852"
      },
      "execution_count": null,
      "outputs": [
        {
          "output_type": "stream",
          "name": "stdout",
          "text": [
            "Sentiment scores:\n",
            "{'neg': 0.111, 'neu': 0.817, 'pos': 0.072, 'compound': -0.983}\n"
          ]
        }
      ]
    },
    {
      "cell_type": "code",
      "source": [
        "### 03/10/2023\n",
        "### url = 'https://www.cnbc.com/2023/03/10/5-things-to-know-before-the-stock-market-opens-friday-march-10.html'\n",
        "\n",
        "text10 = '1. Jobs market stays hot The February jobs report is in, and it’s another big one. Payrolls rose by 311,000 last month, according to the Bureau of Labor Statistics. The unemployment rate ticked up to 3.6%. That’s well above the 225,000 jobs expected by economists surveyed by Dow Jones. While it’s well under the shocking 517,000 jobs in January, it’s still considered a robust number – making for another potential “good news is bad news” scenario for the bulls. 2. Another bummer week The S&P 500, the Nasdaq and the Dow are on pace to finish the week in the red. In fact, all three could well end up down more than 3% for the week. Equities are coming off a terrible Thursday after SVB Financial, aka Silicon Valley Bank, spooked the financial sector. (More on that below.) It looks like similar action could continue Friday, as bank stocks floundered in European markets. Follow live markets updates. 3. Trouble in the Valley Silicon Valley Bank is in deep trouble, stoking fears of a bank run. Shares of the firm tanked 60% Thursday, and they’re down another 60%-plus in high-volume off-hours trading Friday morning. The bank has been around for four decades, providing support for tech startups even as the industry has gone through ups and downs. This time looks different, though. SVB sent investors running for the hills this week after it sold off $21 billion in holdings at a loss of about $1.8 billion. It also raised $500 million from General Atlantic, a private equity firm. Venture activity had already declined, the IPO market has largely dried up, and now the Fed’s rate hikes are putting an even bigger squeeze on the high-risk world of tech finance. Client funds are dwindling rapidly, too. “Psychologically, it’s a blow because everyone realizes how fragile things can be,” Scott Orn, operating chief at Kruze Consulting, told CNBC. 4. GM offers buyouts to thousands General Motorsisn’t done with staff reductions. The Detroit automaker said Thursday that it would offer buyouts to a majority of its 58,000 salaried workers in the United States. The company said it would result in a $1.5 billion pretax charge. The move comes soon after GM said it laid off about 500 white-collar workers globally. The company is looking to rein in costs as it ramps up production of costly electric vehicles to adjust to rapidly changing standards in the U.S. and abroad. “Employees are strongly encouraged to consider the program,” GM said in a statement. “By permanently bringing down structured costs, we can improve vehicle profitability and remain nimble in an increasingly competitive market.” 5. Gap falls into itself Gap was once the American mass market avatar of hipness. These days, though, the apparel retailer is on the verge of slipping into irrelevance. Shares of Gap fell after its latest disappointing earnings report. Sales declined in the holiday quarter, while the company posted a much wider loss than Wall Street expected. It also offered soft guidance for the current quarter and the year. Gap – whose brands include Banana Republic, Athleta and Old Navy – also announced another shakeup in its executive ranks as it zeroes in on a choice for its permanent CEO. The company said an external candidate would fill the role. '"
      ],
      "metadata": {
        "id": "kDY21c6o1OXr"
      },
      "execution_count": null,
      "outputs": []
    },
    {
      "cell_type": "code",
      "source": [
        "text10 = text10.lower()"
      ],
      "metadata": {
        "id": "oJFumfjiA3BR"
      },
      "execution_count": null,
      "outputs": []
    },
    {
      "cell_type": "code",
      "source": [
        "scores = sia.polarity_scores(text10)"
      ],
      "metadata": {
        "id": "O6d5qHqZC3U3"
      },
      "execution_count": null,
      "outputs": []
    },
    {
      "cell_type": "code",
      "source": [
        "print(\"Sentiment scores:\")\n",
        "print(scores)"
      ],
      "metadata": {
        "colab": {
          "base_uri": "https://localhost:8080/"
        },
        "id": "pFnyQjo0C3XS",
        "outputId": "6dcd1d5e-4b13-4243-8738-97e6fd052687"
      },
      "execution_count": null,
      "outputs": [
        {
          "output_type": "stream",
          "name": "stdout",
          "text": [
            "Sentiment scores:\n",
            "{'neg': 0.064, 'neu': 0.873, 'pos': 0.063, 'compound': -0.4939}\n"
          ]
        }
      ]
    },
    {
      "cell_type": "code",
      "source": [
        "### 03/13/2023\n",
        "### url = 'https://www.cnbc.com/2023/03/13/5-things-to-know-before-the-stock-market-opens-monday-march-13.html'\n",
        "\n",
        "text11 = '1. New weekb 1. Stocks are set to open higher Monday as investors assess the implications of the Silicon Valley Bank failure and a federal backstop. Bank stocks, however, remained under the pressure with First Republic down 70% and leading the sector’s premarket decline. Each of the major averages posted ugly losses last week. On Friday, the Dow Jones Industrial Average dropped 1.07%, to close the week down 4.44% — its worst weekly performance since June. The S&P 500 fell 1.45% Friday to end the week 4.55% lower, and the Nasdaq Composite sank 1.76% on the day and 4.71% on the week. Follow live market updates. 2. Every award all at once 2. OK, not every award, but Sunday night at the Oscars the film “Everything Everywhere All at Once” dominated. The movie, directed by Daniel Kwan and Daniel Scheinert, went into the night nominated for 11 prizes and took home seven: best picture, best actress, best director, best editing, best supporting actor, best supporting actress and best original screenplay. “Everything Everywhere” has emerged as a major touchstone for Asian representation in U.S. film, and this year’s awards nominees marked several firsts for the Asian community. Read CNBC’s live blog coverage from Oscars night. And for more, check out how the Oscar box office bump is shrinking. 3. FDIC steps in Federal regulators stepped in this weekend to cover customers of Silicon Valley Bank who were at risk of losing their money because of a $250,000 cap on guaranteed deposits. The plan calls for FDIC insurance to cover depositors and won’t rely on bailouts or taxpayer dollars, according to officials. The Treasury Department, Federal Reserve and FDIC issued a joint statement saying they were “taking decisive actions to protect the U.S. economy by strengthening public confidence in our banking system.” Authorities had worried about contagion in the banking industry if the SVB fallout couldn’t be contained. On Sunday, regulators also shuttered Signature Bank in New York, which had been popular among cryptocurrency companies, similar to SVB. 4. Crypto rallies Cryptocurrencies spiked on the news of a government backstop for SVB, collectively gaining more than $70 billion in the 24 hours leading up to 2 a.m. ET and jumping back above $1 trillion. Silvergate Capital, which shuttered last week, SVB and Signature Bank were all friends of cryptocurrency, sending the digital coins on a wild trading ride. “Given the Fed announcement over the weekend of a backstop for banks and specifically Silicon Valley Bank, markets have turned euphoric knowing that depositors’ money is safe and a major potential bank run has been averted,” said Vijay Ayyar, vice president of corporate development and international at crypto exchange Luno, in a statement to CNBC. 5. 5. What £1 will get you During a U.S. banking crisis ... it’ll win you an entire business. HSBC on Monday announced it’s agreed to rescue the U.K. subsidiary of SVB, for £1, or about $1.21. The sale will protect the deposits of SVB U.K. customers, which as of Friday stood at about £6.7 billion. The transaction does not include the assets and liabilities of SVB U.K.’s parent company. It “strengthens our commercial banking franchise and enhances our ability to serve innovative and fast-growing firms, including in the technology and life-science sectors, in the U.K. and internationally,” according to HSBC Group CEO Noel Quinn. “SVB U.K. customers can continue to bank as usual, safe in the knowledge that their deposits are backed by the strength, safety and security of HSBC,” he said.'"
      ],
      "metadata": {
        "id": "9wvhWqos1Ocq"
      },
      "execution_count": null,
      "outputs": []
    },
    {
      "cell_type": "code",
      "source": [
        "text11 = text11.lower()"
      ],
      "metadata": {
        "id": "9bVYTZ9aA30f"
      },
      "execution_count": null,
      "outputs": []
    },
    {
      "cell_type": "code",
      "source": [
        "scores = sia.polarity_scores(text11)"
      ],
      "metadata": {
        "id": "xa-0BLXoC4VH"
      },
      "execution_count": null,
      "outputs": []
    },
    {
      "cell_type": "code",
      "source": [
        "print(\"Sentiment scores:\")\n",
        "print(scores)"
      ],
      "metadata": {
        "colab": {
          "base_uri": "https://localhost:8080/"
        },
        "id": "EQdnv-blC4YO",
        "outputId": "290a49be-7388-4ce0-d318-752ff79d21bf"
      },
      "execution_count": null,
      "outputs": [
        {
          "output_type": "stream",
          "name": "stdout",
          "text": [
            "Sentiment scores:\n",
            "{'neg': 0.049, 'neu': 0.748, 'pos': 0.203, 'compound': 0.999}\n"
          ]
        }
      ]
    },
    {
      "cell_type": "code",
      "source": [
        "### 03/14/2023\n",
        "### url = 'https://www.cnbc.com/2023/03/14/5-things-to-know-before-the-stock-market-opens-tuesday-march-14.html'\n",
        "\n",
        "text12 = '1. Stress and confusion Investors are looking for clarity after a few days of dramatic turns. Monday was a mess as markets tried to figure out the ramifications of the Signature Bank and Silicon Valley Bank shutdowns. The Dow finished down, marking its fifth straight losing day, while the Nasdaq managed to squeak out a slight win. Regional bank stocks took a huge hit as the government’s actions to limit the fallout from Silicon Valley Bank and Signature failed, at least for the moment, to reassure investors and depositors alike. First Republic, for instance, fell a whopping 62% on Monday. Yet, those stocks could be in store for a rebound Tuesday. Follow live markets updates. 2. Where do rates go from here? The Federal Reserve is still on track to raise its benchmark interest rate by a quarter point next week, despite the second- and third-biggest bank failures in history. As of Monday, even with the turmoil in the market, especially among regional banks, traders saw an 85% probability that the rate hike would still happen as the central bank tries to cool inflation. Goldman Sachs stood out as the contrarian voice, however, arguing that Fed Chairman Jerome Powell and crew will hold off for now on a rate increase. “We think Fed officials are likely to prioritize financial stability for now, viewing it as the immediate problem and high inflation as a medium-term problem,” Goldman said in a note to clients. The Fed’s next policy-setting meeting is scheduled for March 21-22. 3. Eyes on CPI Speaking of inflation, the government’s consumer inflation report for February is in. It came in somewhat cooler than January’s consumer price index, showing that the Fed continues to make a little progress in its battle against price increases. This report takes on added significance given the context of the Silicon Valley Bank and Signature Bank failures, which triggered turmoil among regional banks. As CNBC’s Patti Domm points out, before the banking upheaval, a hot CPI report might have pushed the Fed to jack up rates by half a point next week. Now, with the stability of the financial system at the top of everyone’s mind, the Fed likely won’t go higher than a quarter point. 4. Special delivery Shares of Uber, Lyft and DoorDash all jumped in off-hours trading after a California appeals court allowed such companies to treat their drivers as independent contractors and not employees. The decision upheld a measure called Proposition 22, which California voters approved in November 2020 after a costly campaign on which ride-share and delivery companies spent more than $180 million. Monday’s ruling overturned a lower court’s rejection of Proposition 22, which was contested by a group of rideshare drivers. The measure exempts Uber and others from following several compensation laws. 5. Ukraine-Russia grain deal extended Authorities extended a Russian-Ukraine grain export deal for 60 days, Russia’s deputy foreign minister told a Russian news agency. The agreement has enabled Ukraine to export wheat, corn and other agricultural products through the Black Sea. A Russian blockade during the earlier stages of the war had hurt global food supplies and fueled price inflation. Elsewhere, Ukraine President Volodymyr Zelenskyy defended his decision to continue defending the eastern Ukrainian city of Bakhmut. “We must destroy the enemy’s military power - and we will destroy it,” he said. Follow live war updates.'"
      ],
      "metadata": {
        "id": "w94OdRru1Oe_"
      },
      "execution_count": null,
      "outputs": []
    },
    {
      "cell_type": "code",
      "source": [
        "text12 = text12.lower()"
      ],
      "metadata": {
        "id": "NJ8ITyVAA4o8"
      },
      "execution_count": null,
      "outputs": []
    },
    {
      "cell_type": "code",
      "source": [
        "scores = sia.polarity_scores(text12)"
      ],
      "metadata": {
        "id": "4qw2RdQfC5Ct"
      },
      "execution_count": null,
      "outputs": []
    },
    {
      "cell_type": "code",
      "source": [
        "print(\"Sentiment scores:\")\n",
        "print(scores)"
      ],
      "metadata": {
        "colab": {
          "base_uri": "https://localhost:8080/"
        },
        "id": "nKit0w1eC5FJ",
        "outputId": "79d2ab8f-5005-4505-9713-af23a4ff0627"
      },
      "execution_count": null,
      "outputs": [
        {
          "output_type": "stream",
          "name": "stdout",
          "text": [
            "Sentiment scores:\n",
            "{'neg': 0.097, 'neu': 0.835, 'pos': 0.068, 'compound': -0.9601}\n"
          ]
        }
      ]
    },
    {
      "cell_type": "code",
      "source": [
        "### 03/15/2023\n",
        "### url = 'https://www.cnbc.com/2023/03/15/5-things-to-know-before-the-stock-market-opens-wednesday-march-15.html'\n",
        "\n",
        "text13 = '1. More turmoil So much for that rebound. After bank stocks helped lead a Tuesday turnaround on Wall Street, even after Moody’s downgraded the entire sector to negative, they fell again during premarket trade Wednesday in the U.S. Overseas, market action was already in full effect, and it wasn’t pretty. Credit Suisse shares plunged in Europe after its biggest backer, the Saudi National Bank, said it wouldn’t provide further assistance, leading to a broader selloff. “The failure of Silicon Valley Bank has spilled into the European equity market,” a Citi strategist wrote. Follow live markets updates. 2. DOJ, SEC probe SVB The Justice Department and the Securities and Exchange Commission are investigating the meltdown of Silicon Valley Bank. That should come as no surprise, given that it was the biggest bank collapse since the 2008 financial crisis. While the probes are still in their early stages, NBC News reported that federal investigators are looking into stock sales that SVB executives made ahead of the tech-friendly bank’s failure. CEO Greg Becker and other executives cashed out a total of $84 million in stock over the past two years. Critics also took aim at the bank’s leaders for taking bonuses just before regulators closed it down. 3. U.S.-Russia collision raises alarms Talk about terrible timing. Markets and economies were already on edge due to the problems in the banking sector and central banks’ battle against inflation. So it didn’t help when a Russian fighter jet collided Tuesday with a U.S. Reaper drone over the Black Sea, which borders both Russia and Ukraine. The drone went down, and U.S. officials blamed Russian pilots’ “reckless” behavior. The Russians, in turn, blamed the U.S., saying the drone was “moving deliberately and provocatively towards the Russian territory with its transponders turned off.” Read live war updates. 4. Ohio sues Norfolk Southern The East Palestine, Ohio, trail derailment is going to haunt that community for a long time. Norfolk Southernwon’t be able to shake it, either. Ohio on Tuesday sued the railroad over the early February derailment of a train carrying toxic materials near the state’s border with Pennsylvania. Several state and federal authorities are already investigating the derailment. Norfolk Southern’s CEO, meanwhile, has apologized and pledged to help clean and support the community. But he and other authorities have said it’s safe to live in East Palestine. There have been reports, however, of cleanup workers and local residents getting sick. Ohio Attorney General Dave Yost said he experienced some discomfort at the site as well. 5. A regional sports titan seeks protection Diamond Sports, America’s biggest owner of regional sports networks, filed for Chapter 11 bankruptcy Tuesday night. Diamond said it plans to continue broadcasting local NHL, NBA and MLB games on its 19 networks under the Bally Sports brand, even as it restructures its debt load – which stood at $8 billion. Diamond is an unconsolidated and independently run subsidiary of Sinclair Broadcast Group, which bought the networks from Disney in 2019. The debt load largely came from that deal. Diamond’s filing comes as the NHL and NBA regular seasons near their end, with baseball season’s Opening Day coming March 30. '"
      ],
      "metadata": {
        "id": "6M7akJvr1Ohr"
      },
      "execution_count": null,
      "outputs": []
    },
    {
      "cell_type": "code",
      "source": [
        "text13 = text13.lower()"
      ],
      "metadata": {
        "id": "J7z2K0KtA5Yq"
      },
      "execution_count": null,
      "outputs": []
    },
    {
      "cell_type": "code",
      "source": [
        "scores = sia.polarity_scores(text13)"
      ],
      "metadata": {
        "id": "gd7ihY0EC5vr"
      },
      "execution_count": null,
      "outputs": []
    },
    {
      "cell_type": "code",
      "source": [
        "print(\"Sentiment scores:\")\n",
        "print(scores)"
      ],
      "metadata": {
        "colab": {
          "base_uri": "https://localhost:8080/"
        },
        "id": "7OooGkY1C5yR",
        "outputId": "4460cfbc-d14a-47b8-d17a-9427ad09f9f3"
      },
      "execution_count": null,
      "outputs": [
        {
          "output_type": "stream",
          "name": "stdout",
          "text": [
            "Sentiment scores:\n",
            "{'neg': 0.088, 'neu': 0.842, 'pos': 0.07, 'compound': -0.8494}\n"
          ]
        }
      ]
    },
    {
      "cell_type": "code",
      "source": [
        "### 03/16/2023\n",
        "### url = 'https://www.cnbc.com/2023/03/16/5-things-to-know-before-the-stock-market-opens-thursday-march-16.html'\n",
        "\n",
        "text14 = '1. What’s next in this wild week? Two more trading days to go in this chaotic week that’s been driven by turmoil in banks. Credit Suisse, the current poster child for the upheaval, took up the Swiss central bank’s offer of a lifeline. Will that calm everyone down? That’s not clear, especially since the banking crisis has many wondering whether the Federal Reserve will indeed raise rates at its policy-setting meeting next week. It had been widely expected to announce a quarter-point hike, but more are betting on a pause under the notion that systemic stability is more important than taming inflation. Read live markets updates. 2. Credit Suisse gets a helping hand Shares of Credit Suisse traded higher Thursday after the Swiss banking giant said it would borrow up to $54 billion from Switzerland’s central bank. It’s been a hectic week Credit Suisse. Earlier this week, the bank and others in Europe slid over fears of contagion from the Silicon Valley Bank collapse in the U.S. Then, on Tuesday, the Swiss bank took another hit as it revealed “material weaknesses” in its financial performing in 2021 and 2022. Its shares hit an all-time low Wednesday after its Saudi investors said it wouldn’t be able to pump any more cash into the bank. Then came the Swiss National Bank’s action, which is providing a lift for the moment. 3. Trouble for TikTok What’s bad for TikTok is good for Snap and Facebook owner Meta. Shares of the latter two social media companies rose in off-hours trading following a Wall Street Journal report that said the Biden administration told TikTok’s Chinese owner, ByteDance, to sell its stake or face a ban in the U.S. TikTok, which has rocketed to popularity over recent years, challenging both social media and traditional media companies for people’s time and eyeballs, is a top target for national security hawks on both sides of the political divide, given its Chinese connections. ByteDance has rejected the criticism. “The best way to address concerns about national security is with the transparent, U.S.-based protection of U.S. user data and systems, with robust third-party monitoring, vetting, and verification, which we are already implementing,” the company said Wednesday. 4. Too close for comfort The U.S. says video it released Thursday shows a Russian fighter jet colliding with an American drone, which then crashed into the Black Sea. The incident, which occurred Tuesday, intensified already hot tempers on both sides, as the United States continues to support Ukraine’s defense against Russia’s invading forces. Elsewhere, the battle for Bakhmut in eastern Ukraine remains intense. a pro-Russian official said Ukraine is building up forces in the area. Follow live war updates. 5. Down to earth Virgin Orbit paused its operations until next week, furloughing almost all of its employees, as it seeks a funding lifeline, according to CNBC space business reporter Michael Sheetz. The news hit the company’s already-beleagured stock, sending it down more than 40% in off-hours trading to about 60 cents a pop. The company is known for using a modified 747 jet to carry rockets under its wing that would then blast satellites into space. Its last mission, in January, suffered a failure in the middle of a flight. The rocket crashed into the ocean. As of Wednesday evening, Virgin Orbit still hadn’t announced when it would report its fourth-quarter financial results. (Sign up for CNBC’s Investing in Space newsletter.)'"
      ],
      "metadata": {
        "id": "VdM9tO191OkF"
      },
      "execution_count": null,
      "outputs": []
    },
    {
      "cell_type": "code",
      "source": [
        "text14 = text14.lower()"
      ],
      "metadata": {
        "id": "M9YAgdMdA58p"
      },
      "execution_count": null,
      "outputs": []
    },
    {
      "cell_type": "code",
      "source": [
        "scores = sia.polarity_scores(text14)"
      ],
      "metadata": {
        "id": "SWMWDafpC6Ws"
      },
      "execution_count": null,
      "outputs": []
    },
    {
      "cell_type": "code",
      "source": [
        "print(\"Sentiment scores:\")\n",
        "print(scores)"
      ],
      "metadata": {
        "colab": {
          "base_uri": "https://localhost:8080/"
        },
        "id": "81ySbBgmC6Y_",
        "outputId": "f82c61e7-08d7-4fcb-8fa6-9190fbeb40b4"
      },
      "execution_count": null,
      "outputs": [
        {
          "output_type": "stream",
          "name": "stdout",
          "text": [
            "Sentiment scores:\n",
            "{'neg': 0.103, 'neu': 0.782, 'pos': 0.115, 'compound': 0.5159}\n"
          ]
        }
      ]
    },
    {
      "cell_type": "code",
      "source": [
        "### 03/17/2023\n",
        "### url = 'https://www.cnbc.com/2023/03/17/5-things-to-know-before-the-stock-market-opens-friday-march-17.html'\n",
        "\n",
        "text15 = '1. Coming out ahead It looks like major stock averages could come out ahead this week, on pace for a winning week despite the turmoil in the global banking sector. Through Thursday, the Dow Jones Industrial Average is up 1.06%, the S&P 500 has risen 2.56%, and the Nasdaq Composite is up 5.19% — on track for its best week since November. Friday, though, marks the periodic phenomenon known on Wall Street as “triple witching,” when stock index futures, stock index options and stock options all expire at the same time, which could bring some last-hour wackiness. Follow live market updates. 2. First Republic’s lifeboat A group of 11 financial institutions has offered regional bank First Republic — among the worst hit by the cascading fallout from recent bank failures — a lifeboat in the form of $30 billion in deposits to shore up its holdings. Bank of America, Wells Fargo, Citigroup and JPMorgan Chase will kick in about $5 billion each, while Goldman Sachs and Morgan Stanley will deposit around $2.5 billion, the banks said in a news release. Truist, PNC, U.S. Bancorp, State Street and Bank of New York Mellon are also in the mix and will deposit about $1 billion each. “This action by America’s largest banks reflects their confidence in First Republic and in banks of all sizes, and it demonstrates their overall commitment to helping banks serve their customers and communities,” the group said in a statement. 3. To Russia Chinese President Xi Jinping will visit Russia next week, his first trip to the country since its invasion of Ukraine over a year ago, China’s Ministry of Foreign Affairs announced Friday, adding the trip comes at the request of Russian President Vladimir Putin. Chinese officials didn’t specify whether the two leaders would meet during Xi’s visit, but the Kremlin said in a statement that “important bilateral documents will be signed” — without elaborating. China last month called again for a cease-fire in the war, but it’s so far refused to call Russia’s unprovoked attack on Ukraine an invasion. Read live updates on the Russia-Ukraine war. 4. FedEx delivers FedEx shares shot up in off-hours trading after the company delivered an upbeat full-year earnings forecast and a quarterly report that showed its cost-cutting efforts are bearing fruit. The company said it now expects adjusted earnings for its fiscal year 2023 to come in between $14.60 and $15.20, up from a prior forecast of between $13.00 and $14.00. Executives have been carrying out an aggressive plan to reduce costs in the face of shrinking shipping volumes. The cost reductions have included layoffs, grounding planes, cutting office space and adjusting delivery services. “We are holistically adjusting to the cost base on all dimensions and all areas. Every dollar is under scrutiny,” CFO Mike Lenz said during FedEx’s earnings call. 5. The new Harvard College hopefuls have a new top dream school. Yes, it’s in Cambridge, Massachusetts. No, it’s not Harvard. According to a new survey by the Princeton Review of college-bound students and their families, the Massachusetts Institute of Technology is the new holy grail of acceptance letters. MIT has an acceptance rate of just under 4%, making it among the hardest schools to get into, but that may be part of the appeal. “There’s a subconscious consensus that it’s only worth going to college if you can go to a life-changing college,” said Hafeez Lakhani, founder and president of Lakhani Coaching in New York. Second on the list of “dream” schools was Stanford University, followed by Harvard University and New York University. Check out the rest of the top 10. (Warning for fellow Tar Heels: the University of North Carolina didn’t make the list, but it’s still my dream school.)'"
      ],
      "metadata": {
        "id": "xByDAlyS1Omk"
      },
      "execution_count": null,
      "outputs": []
    },
    {
      "cell_type": "code",
      "source": [
        "text15 = text15.lower()"
      ],
      "metadata": {
        "id": "KEHb-XzWA6m6"
      },
      "execution_count": null,
      "outputs": []
    },
    {
      "cell_type": "code",
      "source": [
        "scores = sia.polarity_scores(text15)"
      ],
      "metadata": {
        "id": "f0FUg1P21OpI"
      },
      "execution_count": null,
      "outputs": []
    },
    {
      "cell_type": "code",
      "source": [
        "print(\"Sentiment scores:\")\n",
        "print(scores)"
      ],
      "metadata": {
        "colab": {
          "base_uri": "https://localhost:8080/"
        },
        "id": "wrJ6Pmg61O7b",
        "outputId": "90fa93f0-7741-4b9a-c32d-6d89f99367c5"
      },
      "execution_count": null,
      "outputs": [
        {
          "output_type": "stream",
          "name": "stdout",
          "text": [
            "Sentiment scores:\n",
            "{'neg': 0.045, 'neu': 0.892, 'pos': 0.064, 'compound': 0.7341}\n"
          ]
        }
      ]
    },
    {
      "cell_type": "code",
      "source": [],
      "metadata": {
        "id": "Ha6oURxH1O-i"
      },
      "execution_count": null,
      "outputs": []
    },
    {
      "cell_type": "code",
      "source": [],
      "metadata": {
        "id": "_ZpyFfWl1PDU"
      },
      "execution_count": null,
      "outputs": []
    },
    {
      "cell_type": "code",
      "source": [],
      "metadata": {
        "id": "tnNFr1Pv1PFy"
      },
      "execution_count": null,
      "outputs": []
    },
    {
      "cell_type": "code",
      "source": [],
      "metadata": {
        "id": "xG726gCu1PH6"
      },
      "execution_count": null,
      "outputs": []
    },
    {
      "cell_type": "code",
      "source": [],
      "metadata": {
        "id": "g6_uW_fF1PJ_"
      },
      "execution_count": null,
      "outputs": []
    },
    {
      "cell_type": "code",
      "source": [],
      "metadata": {
        "id": "LwA_zXPR1PMf"
      },
      "execution_count": null,
      "outputs": []
    }
  ]
}